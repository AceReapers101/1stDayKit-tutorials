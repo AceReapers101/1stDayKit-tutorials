{
  "cells": [
    {
      "cell_type": "code",
      "execution_count": null,
      "metadata": {
        "colab": {
          "base_uri": "https://localhost:8080/"
        },
        "id": "Lm4t5qMFhM27",
        "outputId": "cf1afa8b-cd4b-4313-ff95-2fe4d6b27d54"
      },
      "outputs": [],
      "source": [
        "!git clone https://github.com/1stDayHack/FDK.git"
      ]
    },
    {
      "cell_type": "code",
      "execution_count": null,
      "metadata": {
        "id": "2tbb2R3ow5GL"
      },
      "outputs": [],
      "source": [
        "!cp -r FDK/* ./\n",
        "!rm -rf FDK/"
      ]
    },
    {
      "cell_type": "code",
      "execution_count": null,
      "metadata": {
        "colab": {
          "base_uri": "https://localhost:8080/"
        },
        "id": "T3JIpZJjhv5B",
        "outputId": "81312c0a-7ade-458d-e9c1-888dba390614"
      },
      "outputs": [],
      "source": [
        "!pip install -r requirements.txt"
      ]
    },
    {
      "cell_type": "code",
      "execution_count": null,
      "metadata": {
        "colab": {
          "base_uri": "https://localhost:8080/",
          "height": 35
        },
        "id": "MvBZz_ZohyQq",
        "outputId": "4035d93e-656c-46dc-fece-297ce9505f29"
      },
      "outputs": [],
      "source": [
        "import torch\n",
        "torch.__version__"
      ]
    },
    {
      "cell_type": "code",
      "execution_count": null,
      "metadata": {
        "colab": {
          "base_uri": "https://localhost:8080/"
        },
        "id": "5DDn-E5Xh2nR",
        "outputId": "bbaed394-3bd3-473e-f36e-31e275e64783"
      },
      "outputs": [],
      "source": [
        "!python -m pip install detectron2 -f \\\n",
        "  https://dl.fbaipublicfiles.com/detectron2/wheels/cu101/torch1.7/index.html"
      ]
    },
    {
      "cell_type": "code",
      "execution_count": null,
      "metadata": {
        "id": "Iq4Q6CrYiWO2"
      },
      "outputs": [],
      "source": [
        "from src.core.super_res import SuperReser\n",
        "from src.core.utils import utils\n",
        "from PIL import Image\n",
        "import os"
      ]
    },
    {
      "cell_type": "code",
      "execution_count": null,
      "metadata": {
        "colab": {
          "base_uri": "https://localhost:8080/"
        },
        "id": "jR324o0Bz78E",
        "outputId": "c01b8a85-1b4b-497a-d017-1f2f16086888"
      },
      "outputs": [],
      "source": [
        "!pip install gdown\n",
        "!gdown https://drive.google.com/u/0/uc?id=1lq5UcxRWnZ5XUQzYD2lW2vFYBBFHdLff\n",
        "!cp RRDB_ESRGAN_x4.pth src/core/base_libs/ESRGAN/models/\n",
        "!rm RRDB_ESRGAN_x4.pth"
      ]
    },
    {
      "cell_type": "code",
      "execution_count": null,
      "metadata": {
        "id": "ZGcmAPR1iaja"
      },
      "outputs": [],
      "source": [
        "super_res = SuperReser(name=\"SuperResssss\")"
      ]
    },
    {
      "cell_type": "code",
      "execution_count": null,
      "metadata": {
        "id": "sdve-RaQibTD"
      },
      "outputs": [],
      "source": [
        "img = Image.open(\"src/core/base_libs/ESRGAN/ny/rsz_china-street-changsha-city.jpg\")"
      ]
    },
    {
      "cell_type": "code",
      "execution_count": null,
      "metadata": {
        "id": "rK7PA-zTiiSY"
      },
      "outputs": [],
      "source": [
        "img_cv = utils.pil_to_cv2(img)"
      ]
    },
    {
      "cell_type": "code",
      "execution_count": null,
      "metadata": {
        "colab": {
          "base_uri": "https://localhost:8080/",
          "height": 1000
        },
        "id": "yVDcqZrqim4y",
        "outputId": "7f9bb6a4-73fc-4270-f9b5-1869d1ef276c"
      },
      "outputs": [],
      "source": [
        "output = super_res.predict(img_cv)\n",
        "super_res.visualize(img_cv,output,figsize=(20,20))"
      ]
    }
  ],
  "metadata": {
    "colab": {
      "name": "SUPER_RES.ipynb",
      "provenance": []
    },
    "kernelspec": {
      "display_name": "Python 3.8.6 64-bit",
      "metadata": {
        "interpreter": {
          "hash": "3dbeab9773abf65856e2f363b414e138b8e26700c648e0f01a01753100c43498"
        }
      },
      "name": "python3"
    },
    "language_info": {
      "version": "3.8.6-final"
    }
  },
  "nbformat": 4,
  "nbformat_minor": 0
}