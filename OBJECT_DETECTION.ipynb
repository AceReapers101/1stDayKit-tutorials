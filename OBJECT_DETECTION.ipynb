{
  "nbformat": 4,
  "nbformat_minor": 0,
  "metadata": {
    "accelerator": "GPU",
    "colab": {
      "name": "OBJECT_DETECTION.ipynb",
      "provenance": []
    },
    "kernelspec": {
      "display_name": "Python 3",
      "name": "python3"
    }
  },
  "cells": [
    {
      "cell_type": "code",
      "metadata": {
        "id": "xrg095ZsVEEP"
      },
      "source": [
        "!git clone https://github.com/1stDayHack/FDK.git"
      ],
      "execution_count": null,
      "outputs": []
    },
    {
      "cell_type": "code",
      "metadata": {
        "id": "uxNVn0phyrky"
      },
      "source": [
        "!cp -r FDK/* ./\n",
        "!rm -rf FDK/"
      ],
      "execution_count": null,
      "outputs": []
    },
    {
      "cell_type": "code",
      "metadata": {
        "id": "aYvZbU3IV-LA"
      },
      "source": [
        "!pip install -r requirements.txt"
      ],
      "execution_count": null,
      "outputs": []
    },
    {
      "cell_type": "code",
      "metadata": {
        "id": "NmEUPJdNXWHR"
      },
      "source": [
        "import torch\n",
        "torch.__version__"
      ],
      "execution_count": null,
      "outputs": []
    },
    {
      "cell_type": "code",
      "metadata": {
        "id": "1GVWhyjFXSU5"
      },
      "source": [
        "!nvidia-smi"
      ],
      "execution_count": null,
      "outputs": []
    },
    {
      "cell_type": "code",
      "metadata": {
        "id": "fC98JN_-Xfyu"
      },
      "source": [
        "!python -m pip install detectron2 -f \\\n",
        "  https://dl.fbaipublicfiles.com/detectron2/wheels/cu101/torch1.7/index.html"
      ],
      "execution_count": null,
      "outputs": []
    },
    {
      "cell_type": "code",
      "metadata": {
        "id": "r4VIdrBVWIp_"
      },
      "source": [
        "from src.core.detect import Detector\n",
        "from src.core.utils import utils\n",
        "from PIL import Image\n",
        "import os"
      ],
      "execution_count": null,
      "outputs": []
    },
    {
      "cell_type": "code",
      "metadata": {
        "id": "tF69osLVYQh-"
      },
      "source": [
        "det = Detector(name=\"DemoDet\")"
      ],
      "execution_count": null,
      "outputs": []
    },
    {
      "cell_type": "code",
      "metadata": {
        "id": "XSkyeOyKYTnD"
      },
      "source": [
        "img = Image.open(\"misc/nyc_superres/out0166.jpg.jpg\")"
      ],
      "execution_count": null,
      "outputs": []
    },
    {
      "cell_type": "code",
      "metadata": {
        "id": "G_zN81-aYVPX"
      },
      "source": [
        "img_cv = utils.pil_to_cv2(img)"
      ],
      "execution_count": null,
      "outputs": []
    },
    {
      "cell_type": "code",
      "metadata": {
        "id": "AeMTCjl9YXyr"
      },
      "source": [
        "output = det.predict(img_cv)\n",
        "out_img = det.visualize(img_cv,output,figsize=(18,18))\n"
      ],
      "execution_count": null,
      "outputs": []
    }
  ]
}