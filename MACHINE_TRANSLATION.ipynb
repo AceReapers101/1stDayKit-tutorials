{
  "nbformat": 4,
  "nbformat_minor": 0,
  "metadata": {
    "colab": {
      "name": "MACHINE_TRANSLATION.ipynb",
      "provenance": []
    },
    "kernelspec": {
      "name": "python3",
      "display_name": "Python 3"
    }
  },
  "cells": [
    {
      "cell_type": "code",
      "metadata": {
        "id": "cMHW5nBM1KP3"
      },
      "source": [
        "!git clone https://github.com/1stDayHack/FDK.git"
      ],
      "execution_count": null,
      "outputs": []
    },
    {
      "cell_type": "code",
      "metadata": {
        "id": "Zo-BFWws1OoL"
      },
      "source": [
        "!cp -r FDK/* ./\n",
        "!rm -rf FDK/"
      ],
      "execution_count": null,
      "outputs": []
    },
    {
      "cell_type": "code",
      "metadata": {
        "id": "LmYhXFjh1Pwv"
      },
      "source": [
        "!pip install -r requirements.txt"
      ],
      "execution_count": null,
      "outputs": []
    },
    {
      "cell_type": "code",
      "metadata": {
        "id": "A1CNPU9Y1RjA"
      },
      "source": [
        "from src.core.translate import Translator_M\n",
        "from src.core.utils import utils\n",
        "import os"
      ],
      "execution_count": null,
      "outputs": []
    },
    {
      "cell_type": "code",
      "metadata": {
        "id": "gHXQ_v721WAe"
      },
      "source": [
        "Trans = Translator_M(task='Helsinki-NLP/opus-mt-en-ROMANCE')"
      ],
      "execution_count": null,
      "outputs": []
    },
    {
      "cell_type": "code",
      "metadata": {
        "id": "8-OpaZli1Xdo"
      },
      "source": [
        "text_to_translate = ['>>fr<< this is a sentence in english that we want to translate to french',\n",
        "                     '>>pt<< This should go to portuguese',\n",
        "                     '>>es<< And this to Spanish']"
      ],
      "execution_count": null,
      "outputs": []
    },
    {
      "cell_type": "code",
      "metadata": {
        "id": "ADEdvHl71aPh"
      },
      "source": [
        "output = Trans.predict(text_to_translate)\n",
        "Trans.visualize(text_to_translate,output)"
      ],
      "execution_count": null,
      "outputs": []
    }
  ]
}