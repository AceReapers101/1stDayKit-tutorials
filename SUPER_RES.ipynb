{
  "nbformat": 4,
  "nbformat_minor": 0,
  "metadata": {
    "colab": {
      "name": "SUPER_RES.ipynb",
      "provenance": []
    },
    "kernelspec": {
      "name": "python3",
      "display_name": "Python 3"
    }
  },
  "cells": [
    {
      "cell_type": "code",
      "metadata": {
        "id": "Lm4t5qMFhM27"
      },
      "source": [
        "!git clone https://github.com/1stDayHack/FDK.git"
      ],
      "execution_count": null,
      "outputs": []
    },
    {
      "cell_type": "code",
      "metadata": {
        "id": "2tbb2R3ow5GL"
      },
      "source": [
        "!cp -r FDK/* ./\n",
        "!rm -rf FDK/"
      ],
      "execution_count": null,
      "outputs": []
    },
    {
      "cell_type": "code",
      "metadata": {
        "id": "T3JIpZJjhv5B"
      },
      "source": [
        "!pip install -r requirements.txt"
      ],
      "execution_count": null,
      "outputs": []
    },
    {
      "cell_type": "code",
      "metadata": {
        "id": "MvBZz_ZohyQq"
      },
      "source": [
        "import torch\n",
        "torch.__version__"
      ],
      "execution_count": null,
      "outputs": []
    },
    {
      "cell_type": "code",
      "metadata": {
        "id": "5DDn-E5Xh2nR"
      },
      "source": [
        "!python -m pip install detectron2 -f \\\n",
        "  https://dl.fbaipublicfiles.com/detectron2/wheels/cu101/torch1.7/index.html"
      ],
      "execution_count": null,
      "outputs": []
    },
    {
      "cell_type": "code",
      "metadata": {
        "id": "Iq4Q6CrYiWO2"
      },
      "source": [
        "from src.core.super_res import SuperReser\n",
        "from src.core.utils import utils\n",
        "from PIL import Image\n",
        "import os"
      ],
      "execution_count": null,
      "outputs": []
    },
    {
      "cell_type": "code",
      "metadata": {
        "id": "jR324o0Bz78E"
      },
      "source": [
        "!pip install gdown\n",
        "!gdown https://drive.google.com/u/0/uc?id=1lq5UcxRWnZ5XUQzYD2lW2vFYBBFHdLff\n",
        "!cp RRDB_ESRGAN_x4.pth src/core/base_libs/ESRGAN/models/\n",
        "!rm RRDB_ESRGAN_x4.pth"
      ],
      "execution_count": null,
      "outputs": []
    },
    {
      "cell_type": "code",
      "metadata": {
        "id": "ZGcmAPR1iaja"
      },
      "source": [
        "super_res = SuperReser(name=\"SuperResssss\")"
      ],
      "execution_count": null,
      "outputs": []
    },
    {
      "cell_type": "code",
      "metadata": {
        "id": "sdve-RaQibTD"
      },
      "source": [
        "img = Image.open(\"src/core/base_libs/ESRGAN/ny/rsz_china-street-changsha-city.jpg\")"
      ],
      "execution_count": null,
      "outputs": []
    },
    {
      "cell_type": "code",
      "metadata": {
        "id": "rK7PA-zTiiSY"
      },
      "source": [
        "img_cv = utils.pil_to_cv2(img)"
      ],
      "execution_count": null,
      "outputs": []
    },
    {
      "cell_type": "code",
      "metadata": {
        "id": "yVDcqZrqim4y"
      },
      "source": [
        "output = super_res.predict(img_cv)\n",
        "super_res.visualize(img_cv,output,figsize=(20,20))"
      ],
      "execution_count": null,
      "outputs": []
    }
  ]
}