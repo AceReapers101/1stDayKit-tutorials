{
  "cells": [
    {
      "cell_type": "code",
      "execution_count": null,
      "metadata": {
        "colab": {
          "base_uri": "https://localhost:8080/"
        },
        "id": "xrg095ZsVEEP",
        "outputId": "574cb49b-53ce-4021-c175-3e7d312f1b49"
      },
      "outputs": [],
      "source": [
        "!git clone https://github.com/1stDayHack/FDK.git"
      ]
    },
    {
      "cell_type": "code",
      "execution_count": null,
      "metadata": {
        "id": "uxNVn0phyrky"
      },
      "outputs": [],
      "source": [
        "!cp -r FDK/* ./\n",
        "!rm -rf FDK/"
      ]
    },
    {
      "cell_type": "code",
      "execution_count": null,
      "metadata": {
        "colab": {
          "base_uri": "https://localhost:8080/"
        },
        "id": "aYvZbU3IV-LA",
        "outputId": "fd2bf62c-592e-4415-faf9-947960b83647"
      },
      "outputs": [],
      "source": [
        "!pip install -r requirements.txt"
      ]
    },
    {
      "cell_type": "code",
      "execution_count": null,
      "metadata": {
        "colab": {
          "base_uri": "https://localhost:8080/",
          "height": 35
        },
        "id": "NmEUPJdNXWHR",
        "outputId": "289d20e9-7c93-40b5-cbb5-d026ffef750c"
      },
      "outputs": [],
      "source": [
        "import torch\n",
        "torch.__version__"
      ]
    },
    {
      "cell_type": "code",
      "execution_count": null,
      "metadata": {
        "colab": {
          "base_uri": "https://localhost:8080/"
        },
        "id": "1GVWhyjFXSU5",
        "outputId": "9537def8-c359-4cdb-d95d-83522d826ff9"
      },
      "outputs": [],
      "source": [
        "!nvidia-smi"
      ]
    },
    {
      "cell_type": "code",
      "execution_count": null,
      "metadata": {
        "colab": {
          "base_uri": "https://localhost:8080/"
        },
        "id": "fC98JN_-Xfyu",
        "outputId": "48a7fd0e-8df1-43d5-b7eb-262744bf2960"
      },
      "outputs": [],
      "source": [
        "!python -m pip install detectron2 -f \\\n",
        "  https://dl.fbaipublicfiles.com/detectron2/wheels/cu101/torch1.7/index.html"
      ]
    },
    {
      "cell_type": "code",
      "execution_count": null,
      "metadata": {
        "id": "r4VIdrBVWIp_"
      },
      "outputs": [],
      "source": [
        "from src.core.detect import Detector\n",
        "from src.core.utils import utils\n",
        "from PIL import Image\n",
        "import os"
      ]
    },
    {
      "cell_type": "code",
      "execution_count": null,
      "metadata": {
        "id": "tF69osLVYQh-"
      },
      "outputs": [],
      "source": [
        "det = Detector(name=\"DemoDet\")"
      ]
    },
    {
      "cell_type": "code",
      "execution_count": null,
      "metadata": {
        "id": "XSkyeOyKYTnD"
      },
      "outputs": [],
      "source": [
        "img = Image.open(\"misc/nyc_superres/out0166.jpg.jpg\")"
      ]
    },
    {
      "cell_type": "code",
      "execution_count": null,
      "metadata": {
        "id": "G_zN81-aYVPX"
      },
      "outputs": [],
      "source": [
        "img_cv = utils.pil_to_cv2(img)"
      ]
    },
    {
      "cell_type": "code",
      "execution_count": null,
      "metadata": {
        "colab": {
          "base_uri": "https://localhost:8080/",
          "height": 713
        },
        "id": "AeMTCjl9YXyr",
        "outputId": "6f2ffcd8-7cbd-4c74-e85c-a7b5a23c870c"
      },
      "outputs": [],
      "source": [
        "output = det.predict(img_cv)\n",
        "out_img = det.visualize(img_cv,output,figsize=(18,18))\n"
      ]
    }
  ],
  "metadata": {
    "accelerator": "GPU",
    "colab": {
      "name": "OBJECT_DETECTION.ipynb",
      "provenance": []
    },
    "kernelspec": {
      "display_name": "Python 3.8.6 64-bit",
      "metadata": {
        "interpreter": {
          "hash": "3dbeab9773abf65856e2f363b414e138b8e26700c648e0f01a01753100c43498"
        }
      },
      "name": "python3"
    },
    "language_info": {
      "version": "3.8.6-final"
    }
  },
  "nbformat": 4,
  "nbformat_minor": 0
}